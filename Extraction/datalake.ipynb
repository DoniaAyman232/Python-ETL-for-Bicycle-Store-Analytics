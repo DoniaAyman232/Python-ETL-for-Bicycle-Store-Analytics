{
 "cells": [
  {
   "cell_type": "code",
   "execution_count": 1,
   "id": "8397b857",
   "metadata": {},
   "outputs": [],
   "source": [
    "import os\n",
    "import pandas as pd\n",
    "from pandas import Timestamp\n",
    "\n",
    "def add_columns_and_export(df, source_path, output_path):\n",
    "    df['extract_time'] = Timestamp.now()\n",
    "    df['source_name'] = 'datalake'\n",
    "    os.makedirs(os.path.dirname(output_path), exist_ok=True)\n",
    "    df.to_csv(output_path, index=False)\n",
    "\n",
    "source_path = '../bikestore_dim/brands/brands.csv'\n",
    "output_path = '../landing/brands/brands.csv'\n",
    "brands = pd.read_csv(source_path, header=0)\n",
    "add_columns_and_export(brands, source_path, output_path)\n"
   ]
  },
  {
   "cell_type": "code",
   "execution_count": 2,
   "id": "e34c886b",
   "metadata": {},
   "outputs": [],
   "source": [
    "import os\n",
    "import pandas as pd\n",
    "from pandas import Timestamp\n",
    "\n",
    "def add_columns_and_export(df, source_path, output_path):\n",
    "    df['extract_time'] = Timestamp.now()\n",
    "    df['source_name'] = 'datalake'\n",
    "    os.makedirs(os.path.dirname(output_path), exist_ok=True)\n",
    "    df.to_csv(output_path, index=False)\n",
    "\n",
    "source_path = '../bikestore_dim/categories/categories.csv'\n",
    "output_path = '../landing/categories/categories.csv'\n",
    "categories = pd.read_csv(source_path, header=0)\n",
    "add_columns_and_export(categories, source_path, output_path)\n"
   ]
  },
  {
   "cell_type": "code",
   "execution_count": 6,
   "id": "fcd4a2bb",
   "metadata": {},
   "outputs": [],
   "source": [
    "import os\n",
    "import pandas as pd\n",
    "from pandas import Timestamp\n",
    "\n",
    "def add_columns_and_export(df, source_path, output_path):\n",
    "    df['extract_time'] = Timestamp.now()\n",
    "    df['source_name'] = 'datalake'\n",
    "    os.makedirs(os.path.dirname(output_path), exist_ok=True)\n",
    "    df.to_csv(output_path, index=False)\n",
    "\n",
    "source_path = '../bikestore_dim/products/products.csv'\n",
    "output_path = '../landing/products/products.csv'\n",
    "products = pd.read_csv(source_path, header=0)\n",
    "add_columns_and_export(products, source_path, output_path)\n"
   ]
  },
  {
   "cell_type": "code",
   "execution_count": 3,
   "id": "175f896e",
   "metadata": {},
   "outputs": [],
   "source": [
    "import os\n",
    "import pandas as pd\n",
    "from pandas import Timestamp\n",
    "\n",
    "def add_columns_and_export(df, source_path, output_path):\n",
    "    df['extract_time'] = Timestamp.now()\n",
    "    df['source_name'] = 'datalake'\n",
    "    os.makedirs(os.path.dirname(output_path), exist_ok=True)\n",
    "    df.to_csv(output_path, index=False)\n",
    "\n",
    "source_path = '../bikestore_dim/staffs/staffs.csv'\n",
    "output_path = '../landing/staffs/staffs.csv'\n",
    "staffs = pd.read_csv(source_path, header=0)\n",
    "add_columns_and_export(staffs, source_path, output_path)\n"
   ]
  },
  {
   "cell_type": "code",
   "execution_count": 4,
   "id": "64575f86",
   "metadata": {},
   "outputs": [],
   "source": [
    "import os\n",
    "import pandas as pd\n",
    "from pandas import Timestamp\n",
    "\n",
    "def add_columns_and_export(df, source_path, output_path):\n",
    "    df['extract_time'] = Timestamp.now()\n",
    "    df['source_name'] = 'datalake'\n",
    "    os.makedirs(os.path.dirname(output_path), exist_ok=True)\n",
    "    df.to_csv(output_path, index=False)\n",
    "\n",
    "source_path = '../bikestore_dim/stocks/stocks.csv'\n",
    "output_path = '../landing/stocks/stocks.csv'\n",
    "stocks = pd.read_csv(source_path, header=0)\n",
    "add_columns_and_export(stocks, source_path, output_path)\n"
   ]
  },
  {
   "cell_type": "code",
   "execution_count": 5,
   "id": "a6519ee4",
   "metadata": {},
   "outputs": [],
   "source": [
    "import os\n",
    "import pandas as pd\n",
    "from pandas import Timestamp\n",
    "\n",
    "def add_columns_and_export(df, source_path, output_path):\n",
    "    df['extract_time'] = Timestamp.now()\n",
    "    df['source_name'] = 'datalake'\n",
    "    os.makedirs(os.path.dirname(output_path), exist_ok=True)\n",
    "    df.to_csv(output_path, index=False)\n",
    "\n",
    "source_path = '../bikestore_dim/stores/stores.csv'\n",
    "output_path = '../landing/stores/stores.csv'\n",
    "stores = pd.read_csv(source_path, header=0)\n",
    "add_columns_and_export(stores, source_path, output_path)\n"
   ]
  },
  {
   "cell_type": "code",
   "execution_count": 7,
   "id": "7c482db9",
   "metadata": {},
   "outputs": [],
   "source": [
    "import os\n",
    "import pandas as pd\n",
    "from pandas import Timestamp\n",
    "\n",
    "def add_columns_and_export(df, source_path, output_path):\n",
    "    df['extract_time'] = Timestamp.now()\n",
    "    df['source_name'] = 'datalake'\n",
    "    os.makedirs(os.path.dirname(output_path), exist_ok=True)\n",
    "    df.to_csv(output_path, index=False)\n",
    "\n",
    "source_path = '../bikestore_dim/customers/customers.csv'\n",
    "output_path = '../landing/customers/customers.csv'\n",
    "customers = pd.read_csv(source_path, header=0)\n",
    "add_columns_and_export(customers, source_path, output_path)\n"
   ]
  },
  {
   "cell_type": "code",
   "execution_count": null,
   "id": "a6303972",
   "metadata": {},
   "outputs": [],
   "source": []
  }
 ],
 "metadata": {
  "kernelspec": {
   "display_name": "Python 3 (ipykernel)",
   "language": "python",
   "name": "python3"
  },
  "language_info": {
   "codemirror_mode": {
    "name": "ipython",
    "version": 3
   },
   "file_extension": ".py",
   "mimetype": "text/x-python",
   "name": "python",
   "nbconvert_exporter": "python",
   "pygments_lexer": "ipython3",
   "version": "3.9.12"
  }
 },
 "nbformat": 4,
 "nbformat_minor": 5
}
