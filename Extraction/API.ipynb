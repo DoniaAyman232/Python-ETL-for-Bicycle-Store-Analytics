{
 "cells": [
  {
   "cell_type": "code",
   "execution_count": 1,
   "id": "84222ae9",
   "metadata": {},
   "outputs": [],
   "source": [
    "import pandas as pd\n",
    "import requests\n",
    "\n",
    "\n",
    "response = requests.get('https://api.exchangerate-api.com/v4/latest/USD')\n",
    "data = response.json()\n",
    "\n",
    "\n",
    "usd_to_egp_rate = data['rates'].get('EGP')\n",
    "timestamp = data['time_last_updated']\n",
    "\n",
    "\n",
    "exchange = pd.DataFrame({'USD_to_EGP': [usd_to_egp_rate], 'Timestamp': [timestamp]})\n"
   ]
  },
  {
   "cell_type": "code",
   "execution_count": 2,
   "id": "da095572",
   "metadata": {},
   "outputs": [],
   "source": [
    "exchange['extract_time'] = pd.Timestamp.now()\n",
    "exchange['source'] = 'API'\n"
   ]
  },
  {
   "cell_type": "code",
   "execution_count": 3,
   "id": "10211d0f",
   "metadata": {},
   "outputs": [],
   "source": [
    "exchange.to_csv('../landing/exchange/exchange.csv', index=False)"
   ]
  },
  {
   "cell_type": "code",
   "execution_count": null,
   "id": "33bcb867",
   "metadata": {},
   "outputs": [],
   "source": []
  }
 ],
 "metadata": {
  "kernelspec": {
   "display_name": "Python 3 (ipykernel)",
   "language": "python",
   "name": "python3"
  },
  "language_info": {
   "codemirror_mode": {
    "name": "ipython",
    "version": 3
   },
   "file_extension": ".py",
   "mimetype": "text/x-python",
   "name": "python",
   "nbconvert_exporter": "python",
   "pygments_lexer": "ipython3",
   "version": "3.9.12"
  }
 },
 "nbformat": 4,
 "nbformat_minor": 5
}
