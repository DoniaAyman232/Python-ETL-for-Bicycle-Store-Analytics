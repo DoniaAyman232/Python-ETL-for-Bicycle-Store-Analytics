{
 "cells": [
  {
   "cell_type": "code",
   "execution_count": 1,
   "id": "2e26479e",
   "metadata": {},
   "outputs": [],
   "source": [
    " \n",
    "import pandas as pd\n",
    "\n",
    "import numpy as np\n",
    "\n",
    "categories = pd.read_csv('../staging_1/categories/categories.csv')"
   ]
  },
  {
   "cell_type": "code",
   "execution_count": 2,
   "id": "c705c0dc",
   "metadata": {},
   "outputs": [
    {
     "data": {
      "text/html": [
       "<div>\n",
       "<style scoped>\n",
       "    .dataframe tbody tr th:only-of-type {\n",
       "        vertical-align: middle;\n",
       "    }\n",
       "\n",
       "    .dataframe tbody tr th {\n",
       "        vertical-align: top;\n",
       "    }\n",
       "\n",
       "    .dataframe thead th {\n",
       "        text-align: right;\n",
       "    }\n",
       "</style>\n",
       "<table border=\"1\" class=\"dataframe\">\n",
       "  <thead>\n",
       "    <tr style=\"text-align: right;\">\n",
       "      <th></th>\n",
       "      <th>category_id</th>\n",
       "      <th>category_name</th>\n",
       "      <th>extract_time</th>\n",
       "      <th>source_name</th>\n",
       "    </tr>\n",
       "  </thead>\n",
       "  <tbody>\n",
       "    <tr>\n",
       "      <th>0</th>\n",
       "      <td>1</td>\n",
       "      <td>Children Bicycles</td>\n",
       "      <td>2024-04-28 20:09:52.132594</td>\n",
       "      <td>datalake</td>\n",
       "    </tr>\n",
       "    <tr>\n",
       "      <th>1</th>\n",
       "      <td>2</td>\n",
       "      <td>Comfort Bicycles</td>\n",
       "      <td>2024-04-28 20:09:52.132594</td>\n",
       "      <td>datalake</td>\n",
       "    </tr>\n",
       "    <tr>\n",
       "      <th>2</th>\n",
       "      <td>3</td>\n",
       "      <td>Cruisers Bicycles</td>\n",
       "      <td>2024-04-28 20:09:52.132594</td>\n",
       "      <td>datalake</td>\n",
       "    </tr>\n",
       "    <tr>\n",
       "      <th>3</th>\n",
       "      <td>4</td>\n",
       "      <td>Cyclocross Bicycles</td>\n",
       "      <td>2024-04-28 20:09:52.132594</td>\n",
       "      <td>datalake</td>\n",
       "    </tr>\n",
       "    <tr>\n",
       "      <th>4</th>\n",
       "      <td>5</td>\n",
       "      <td>Electric Bikes</td>\n",
       "      <td>2024-04-28 20:09:52.132594</td>\n",
       "      <td>datalake</td>\n",
       "    </tr>\n",
       "    <tr>\n",
       "      <th>5</th>\n",
       "      <td>6</td>\n",
       "      <td>Mountain Bikes</td>\n",
       "      <td>2024-04-28 20:09:52.132594</td>\n",
       "      <td>datalake</td>\n",
       "    </tr>\n",
       "    <tr>\n",
       "      <th>6</th>\n",
       "      <td>7</td>\n",
       "      <td>Road Bikes</td>\n",
       "      <td>2024-04-28 20:09:52.132594</td>\n",
       "      <td>datalake</td>\n",
       "    </tr>\n",
       "  </tbody>\n",
       "</table>\n",
       "</div>"
      ],
      "text/plain": [
       "   category_id        category_name                extract_time source_name\n",
       "0            1    Children Bicycles  2024-04-28 20:09:52.132594    datalake\n",
       "1            2     Comfort Bicycles  2024-04-28 20:09:52.132594    datalake\n",
       "2            3    Cruisers Bicycles  2024-04-28 20:09:52.132594    datalake\n",
       "3            4  Cyclocross Bicycles  2024-04-28 20:09:52.132594    datalake\n",
       "4            5       Electric Bikes  2024-04-28 20:09:52.132594    datalake\n",
       "5            6       Mountain Bikes  2024-04-28 20:09:52.132594    datalake\n",
       "6            7           Road Bikes  2024-04-28 20:09:52.132594    datalake"
      ]
     },
     "execution_count": 2,
     "metadata": {},
     "output_type": "execute_result"
    }
   ],
   "source": [
    "categories"
   ]
  },
  {
   "cell_type": "code",
   "execution_count": 4,
   "id": "90b85ae9",
   "metadata": {},
   "outputs": [],
   "source": [
    "import pandas as pd\n",
    "import os\n",
    "output_path = '../staging_2/categories/categories.csv'\n",
    "os.makedirs(os.path.dirname(output_path), exist_ok=True)\n",
    "categories.to_csv(output_path, index=False)\n"
   ]
  },
  {
   "cell_type": "code",
   "execution_count": null,
   "id": "85e4f3bb",
   "metadata": {},
   "outputs": [],
   "source": []
  }
 ],
 "metadata": {
  "kernelspec": {
   "display_name": "Python 3 (ipykernel)",
   "language": "python",
   "name": "python3"
  },
  "language_info": {
   "codemirror_mode": {
    "name": "ipython",
    "version": 3
   },
   "file_extension": ".py",
   "mimetype": "text/x-python",
   "name": "python",
   "nbconvert_exporter": "python",
   "pygments_lexer": "ipython3",
   "version": "3.9.12"
  }
 },
 "nbformat": 4,
 "nbformat_minor": 5
}
