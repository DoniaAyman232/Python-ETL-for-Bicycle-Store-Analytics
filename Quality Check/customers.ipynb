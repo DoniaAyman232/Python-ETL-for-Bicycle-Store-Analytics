{
 "cells": [
  {
   "cell_type": "code",
   "execution_count": 1,
   "id": "9660d069",
   "metadata": {},
   "outputs": [],
   "source": [
    " \n",
    "import pandas as pd\n",
    "\n",
    "import numpy as np\n",
    "\n",
    "customers = pd.read_csv('../landing/customers/customers.csv')"
   ]
  },
  {
   "cell_type": "code",
   "execution_count": 3,
   "id": "4f0b84ad",
   "metadata": {},
   "outputs": [
    {
     "name": "stdout",
     "output_type": "stream",
     "text": [
      "<class 'pandas.core.frame.DataFrame'>\n",
      "RangeIndex: 1445 entries, 0 to 1444\n",
      "Data columns (total 11 columns):\n",
      " #   Column        Non-Null Count  Dtype \n",
      "---  ------        --------------  ----- \n",
      " 0   customer_id   1445 non-null   int64 \n",
      " 1   first_name    1445 non-null   object\n",
      " 2   last_name     1445 non-null   object\n",
      " 3   phone         178 non-null    object\n",
      " 4   email         1445 non-null   object\n",
      " 5   street        1445 non-null   object\n",
      " 6   city          1445 non-null   object\n",
      " 7   state         1445 non-null   object\n",
      " 8   zip_code      1445 non-null   int64 \n",
      " 9   extract_time  1445 non-null   object\n",
      " 10  source_name   1445 non-null   object\n",
      "dtypes: int64(2), object(9)\n",
      "memory usage: 124.3+ KB\n"
     ]
    }
   ],
   "source": [
    "customers.info()"
   ]
  },
  {
   "cell_type": "code",
   "execution_count": 6,
   "id": "3e2884b1",
   "metadata": {},
   "outputs": [
    {
     "data": {
      "text/plain": [
       "customer_id     0\n",
       "first_name      0\n",
       "last_name       0\n",
       "phone           0\n",
       "email           0\n",
       "street          0\n",
       "city            0\n",
       "state           0\n",
       "zip_code        0\n",
       "extract_time    0\n",
       "source_name     0\n",
       "dtype: int64"
      ]
     },
     "execution_count": 6,
     "metadata": {},
     "output_type": "execute_result"
    }
   ],
   "source": [
    "customers.isnull().sum()"
   ]
  },
  {
   "cell_type": "code",
   "execution_count": 5,
   "id": "ee96c84e",
   "metadata": {},
   "outputs": [],
   "source": [
    "customers.dropna(subset=['phone'], inplace=True)\n"
   ]
  },
  {
   "cell_type": "code",
   "execution_count": 7,
   "id": "5a75f247",
   "metadata": {},
   "outputs": [],
   "source": [
    "customers['extract_time'] = pd.to_datetime(customers['extract_time'], format='%Y-%m-%d %H:%M:%S.%f')\n"
   ]
  },
  {
   "cell_type": "code",
   "execution_count": 8,
   "id": "49be8344",
   "metadata": {},
   "outputs": [
    {
     "name": "stdout",
     "output_type": "stream",
     "text": [
      "<class 'pandas.core.frame.DataFrame'>\n",
      "Int64Index: 178 entries, 4 to 1437\n",
      "Data columns (total 11 columns):\n",
      " #   Column        Non-Null Count  Dtype         \n",
      "---  ------        --------------  -----         \n",
      " 0   customer_id   178 non-null    int64         \n",
      " 1   first_name    178 non-null    object        \n",
      " 2   last_name     178 non-null    object        \n",
      " 3   phone         178 non-null    object        \n",
      " 4   email         178 non-null    object        \n",
      " 5   street        178 non-null    object        \n",
      " 6   city          178 non-null    object        \n",
      " 7   state         178 non-null    object        \n",
      " 8   zip_code      178 non-null    int64         \n",
      " 9   extract_time  178 non-null    datetime64[ns]\n",
      " 10  source_name   178 non-null    object        \n",
      "dtypes: datetime64[ns](1), int64(2), object(8)\n",
      "memory usage: 16.7+ KB\n"
     ]
    }
   ],
   "source": [
    "customers.info()"
   ]
  },
  {
   "cell_type": "code",
   "execution_count": 9,
   "id": "58f9b718",
   "metadata": {},
   "outputs": [],
   "source": [
    "duplicates = customers.duplicated()\n"
   ]
  },
  {
   "cell_type": "code",
   "execution_count": 10,
   "id": "5e47f964",
   "metadata": {},
   "outputs": [
    {
     "data": {
      "text/plain": [
       "4       False\n",
       "6       False\n",
       "11      False\n",
       "15      False\n",
       "25      False\n",
       "        ...  \n",
       "1417    False\n",
       "1422    False\n",
       "1425    False\n",
       "1429    False\n",
       "1437    False\n",
       "Length: 178, dtype: bool"
      ]
     },
     "execution_count": 10,
     "metadata": {},
     "output_type": "execute_result"
    }
   ],
   "source": [
    "duplicates"
   ]
  },
  {
   "cell_type": "code",
   "execution_count": 11,
   "id": "842fbc15",
   "metadata": {},
   "outputs": [],
   "source": [
    "has_duplicates = customers.duplicated().any()\n"
   ]
  },
  {
   "cell_type": "code",
   "execution_count": 12,
   "id": "43c1e1c0",
   "metadata": {},
   "outputs": [
    {
     "data": {
      "text/plain": [
       "False"
      ]
     },
     "execution_count": 12,
     "metadata": {},
     "output_type": "execute_result"
    }
   ],
   "source": [
    "has_duplicates"
   ]
  },
  {
   "cell_type": "code",
   "execution_count": 13,
   "id": "91789505",
   "metadata": {},
   "outputs": [],
   "source": [
    "import os\n",
    "import pandas as pd\n",
    "\n",
    "\n",
    "output_path = '../staging_1/customers/customers.csv'\n",
    "\n",
    "\n",
    "os.makedirs(os.path.dirname(output_path), exist_ok=True)\n",
    "\n",
    "\n",
    "customers.to_csv(output_path, index=False)\n"
   ]
  },
  {
   "cell_type": "code",
   "execution_count": 14,
   "id": "e64f20fa",
   "metadata": {},
   "outputs": [],
   "source": [
    "has_duplicate_rows = customers.duplicated(subset=None).any()\n"
   ]
  },
  {
   "cell_type": "code",
   "execution_count": 15,
   "id": "c7d8800c",
   "metadata": {},
   "outputs": [
    {
     "data": {
      "text/plain": [
       "False"
      ]
     },
     "execution_count": 15,
     "metadata": {},
     "output_type": "execute_result"
    }
   ],
   "source": [
    "has_duplicate_rows"
   ]
  },
  {
   "cell_type": "code",
   "execution_count": null,
   "id": "69c4b9a9",
   "metadata": {},
   "outputs": [],
   "source": []
  }
 ],
 "metadata": {
  "kernelspec": {
   "display_name": "Python 3 (ipykernel)",
   "language": "python",
   "name": "python3"
  },
  "language_info": {
   "codemirror_mode": {
    "name": "ipython",
    "version": 3
   },
   "file_extension": ".py",
   "mimetype": "text/x-python",
   "name": "python",
   "nbconvert_exporter": "python",
   "pygments_lexer": "ipython3",
   "version": "3.9.12"
  }
 },
 "nbformat": 4,
 "nbformat_minor": 5
}
