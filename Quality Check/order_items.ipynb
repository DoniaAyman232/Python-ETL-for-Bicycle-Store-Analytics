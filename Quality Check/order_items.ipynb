{
 "cells": [
  {
   "cell_type": "code",
   "execution_count": 3,
   "id": "ba09b955",
   "metadata": {},
   "outputs": [],
   "source": [
    " \n",
    "import pandas as pd\n",
    "\n",
    "import numpy as np\n",
    "\n",
    "order_items = pd.read_csv('../landing/order_items/order_items.csv')"
   ]
  },
  {
   "cell_type": "code",
   "execution_count": 4,
   "id": "59489631",
   "metadata": {},
   "outputs": [
    {
     "name": "stdout",
     "output_type": "stream",
     "text": [
      "<class 'pandas.core.frame.DataFrame'>\n",
      "RangeIndex: 4764 entries, 0 to 4763\n",
      "Data columns (total 8 columns):\n",
      " #   Column        Non-Null Count  Dtype  \n",
      "---  ------        --------------  -----  \n",
      " 0   order_id      4764 non-null   int64  \n",
      " 1   item_id       4764 non-null   object \n",
      " 2   product_id    4764 non-null   int64  \n",
      " 3   quantity      4764 non-null   int64  \n",
      " 4   list_price    4764 non-null   float64\n",
      " 5   discount      4764 non-null   float64\n",
      " 6   extract_time  4764 non-null   object \n",
      " 7   source        4764 non-null   object \n",
      "dtypes: float64(2), int64(3), object(3)\n",
      "memory usage: 297.9+ KB\n"
     ]
    }
   ],
   "source": [
    "order_items.info()"
   ]
  },
  {
   "cell_type": "code",
   "execution_count": 5,
   "id": "24e89049",
   "metadata": {},
   "outputs": [],
   "source": [
    "is_digit = order_items['item_id'].str.isdigit()\n",
    "order_items = order_items[is_digit]\n",
    "order_items['item_id'] = order_items['item_id'].astype(int)\n"
   ]
  },
  {
   "cell_type": "code",
   "execution_count": 6,
   "id": "40d8575c",
   "metadata": {},
   "outputs": [
    {
     "data": {
      "text/plain": [
       "(4760, 8)"
      ]
     },
     "execution_count": 6,
     "metadata": {},
     "output_type": "execute_result"
    }
   ],
   "source": [
    "order_items.shape "
   ]
  },
  {
   "cell_type": "code",
   "execution_count": null,
   "id": "d61ff5ca",
   "metadata": {},
   "outputs": [],
   "source": []
  },
  {
   "cell_type": "code",
   "execution_count": null,
   "id": "47bc5f3e",
   "metadata": {},
   "outputs": [],
   "source": []
  },
  {
   "cell_type": "code",
   "execution_count": null,
   "id": "661ee7c2",
   "metadata": {},
   "outputs": [],
   "source": []
  },
  {
   "cell_type": "code",
   "execution_count": null,
   "id": "23b6fbe5",
   "metadata": {},
   "outputs": [],
   "source": []
  },
  {
   "cell_type": "code",
   "execution_count": 7,
   "id": "7c911667",
   "metadata": {},
   "outputs": [],
   "source": [
    "has_duplicate_rows = order_items.duplicated(subset=None).any()\n"
   ]
  },
  {
   "cell_type": "code",
   "execution_count": 8,
   "id": "95bee5f1",
   "metadata": {},
   "outputs": [
    {
     "data": {
      "text/plain": [
       "True"
      ]
     },
     "execution_count": 8,
     "metadata": {},
     "output_type": "execute_result"
    }
   ],
   "source": [
    "has_duplicate_rows"
   ]
  },
  {
   "cell_type": "code",
   "execution_count": null,
   "id": "84ac7d73",
   "metadata": {},
   "outputs": [],
   "source": []
  },
  {
   "cell_type": "code",
   "execution_count": null,
   "id": "48634775",
   "metadata": {},
   "outputs": [],
   "source": []
  },
  {
   "cell_type": "code",
   "execution_count": 9,
   "id": "55a29227",
   "metadata": {},
   "outputs": [],
   "source": [
    "#order_items.drop_duplicates(keep='first', inplace=True)\n",
    "order_items.drop_duplicates(inplace=True)\n",
    "order_items.reset_index(drop=True, inplace=True)\n"
   ]
  },
  {
   "cell_type": "code",
   "execution_count": 10,
   "id": "5c15d882",
   "metadata": {},
   "outputs": [],
   "source": [
    "order_items['extract_time'] = pd.to_datetime(order_items['extract_time'], format='%Y-%m-%d %H:%M:%S.%f')\n"
   ]
  },
  {
   "cell_type": "code",
   "execution_count": 11,
   "id": "3f08b548",
   "metadata": {},
   "outputs": [
    {
     "name": "stdout",
     "output_type": "stream",
     "text": [
      "<class 'pandas.core.frame.DataFrame'>\n",
      "RangeIndex: 4726 entries, 0 to 4725\n",
      "Data columns (total 8 columns):\n",
      " #   Column        Non-Null Count  Dtype         \n",
      "---  ------        --------------  -----         \n",
      " 0   order_id      4726 non-null   int64         \n",
      " 1   item_id       4726 non-null   int64         \n",
      " 2   product_id    4726 non-null   int64         \n",
      " 3   quantity      4726 non-null   int64         \n",
      " 4   list_price    4726 non-null   float64       \n",
      " 5   discount      4726 non-null   float64       \n",
      " 6   extract_time  4726 non-null   datetime64[ns]\n",
      " 7   source        4726 non-null   object        \n",
      "dtypes: datetime64[ns](1), float64(2), int64(4), object(1)\n",
      "memory usage: 295.5+ KB\n"
     ]
    }
   ],
   "source": [
    "order_items.info()"
   ]
  },
  {
   "cell_type": "code",
   "execution_count": 12,
   "id": "70ed1db5",
   "metadata": {},
   "outputs": [
    {
     "data": {
      "text/plain": [
       "order_id        0\n",
       "item_id         0\n",
       "product_id      0\n",
       "quantity        0\n",
       "list_price      0\n",
       "discount        0\n",
       "extract_time    0\n",
       "source          0\n",
       "dtype: int64"
      ]
     },
     "execution_count": 12,
     "metadata": {},
     "output_type": "execute_result"
    }
   ],
   "source": [
    "order_items.isnull().sum()"
   ]
  },
  {
   "cell_type": "code",
   "execution_count": 13,
   "id": "f13890e2",
   "metadata": {},
   "outputs": [
    {
     "name": "stdout",
     "output_type": "stream",
     "text": [
      "Foreign key is valid.\n"
     ]
    }
   ],
   "source": [
    "\n",
    "products = pd.read_csv('../landing/products/products.csv')\n",
    "\n",
    "\n",
    "is_fk_valid = order_items['product_id'].isin(products['product_id']).all()\n",
    "\n",
    "if is_fk_valid:\n",
    "    print(\"Foreign key is valid.\")\n",
    "else:\n",
    "    print(\"Foreign key is not valid.\")\n"
   ]
  },
  {
   "cell_type": "code",
   "execution_count": 14,
   "id": "b93ca387",
   "metadata": {},
   "outputs": [],
   "source": [
    "import os\n",
    "import pandas as pd\n",
    "\n",
    "\n",
    "output_path = '../staging_1/order_items/order_items.csv'\n",
    "\n",
    "\n",
    "os.makedirs(os.path.dirname(output_path), exist_ok=True)\n",
    "\n",
    "\n",
    "order_items.to_csv(output_path, index=False)\n"
   ]
  },
  {
   "cell_type": "code",
   "execution_count": null,
   "id": "a4cfba90",
   "metadata": {},
   "outputs": [],
   "source": []
  }
 ],
 "metadata": {
  "kernelspec": {
   "display_name": "Python 3 (ipykernel)",
   "language": "python",
   "name": "python3"
  },
  "language_info": {
   "codemirror_mode": {
    "name": "ipython",
    "version": 3
   },
   "file_extension": ".py",
   "mimetype": "text/x-python",
   "name": "python",
   "nbconvert_exporter": "python",
   "pygments_lexer": "ipython3",
   "version": "3.9.12"
  }
 },
 "nbformat": 4,
 "nbformat_minor": 5
}
