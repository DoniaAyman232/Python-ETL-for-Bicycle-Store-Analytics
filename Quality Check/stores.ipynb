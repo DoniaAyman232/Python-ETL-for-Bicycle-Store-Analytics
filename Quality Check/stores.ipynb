{
 "cells": [
  {
   "cell_type": "code",
   "execution_count": 1,
   "id": "d2179ebf",
   "metadata": {},
   "outputs": [],
   "source": [
    " \n",
    "import pandas as pd\n",
    "\n",
    "import numpy as np\n",
    "\n",
    "stores = pd.read_csv('../landing/stores/stores.csv')"
   ]
  },
  {
   "cell_type": "code",
   "execution_count": 9,
   "id": "bb5b19ac",
   "metadata": {},
   "outputs": [
    {
     "name": "stdout",
     "output_type": "stream",
     "text": [
      "<class 'pandas.core.frame.DataFrame'>\n",
      "Int64Index: 2 entries, 1 to 2\n",
      "Data columns (total 10 columns):\n",
      " #   Column        Non-Null Count  Dtype         \n",
      "---  ------        --------------  -----         \n",
      " 0   store_id      2 non-null      int64         \n",
      " 1   store_name    2 non-null      object        \n",
      " 2   phone         2 non-null      object        \n",
      " 3   email         2 non-null      object        \n",
      " 4   street        2 non-null      object        \n",
      " 5   city          2 non-null      object        \n",
      " 6   state         2 non-null      object        \n",
      " 7   zip_code      2 non-null      float64       \n",
      " 8   extract_time  2 non-null      datetime64[ns]\n",
      " 9   source_name   2 non-null      object        \n",
      "dtypes: datetime64[ns](1), float64(1), int64(1), object(7)\n",
      "memory usage: 176.0+ bytes\n"
     ]
    }
   ],
   "source": [
    "stores.info()"
   ]
  },
  {
   "cell_type": "code",
   "execution_count": 5,
   "id": "9bebefa9",
   "metadata": {},
   "outputs": [
    {
     "data": {
      "text/plain": [
       "store_id        0\n",
       "store_name      0\n",
       "phone           0\n",
       "email           0\n",
       "street          0\n",
       "city            0\n",
       "state           0\n",
       "zip_code        0\n",
       "extract_time    0\n",
       "source_name     0\n",
       "dtype: int64"
      ]
     },
     "execution_count": 5,
     "metadata": {},
     "output_type": "execute_result"
    }
   ],
   "source": [
    "stores.isnull().sum()"
   ]
  },
  {
   "cell_type": "code",
   "execution_count": 4,
   "id": "f0f72144",
   "metadata": {},
   "outputs": [],
   "source": [
    "stores.dropna(subset=['email','zip_code'], inplace=True)"
   ]
  },
  {
   "cell_type": "code",
   "execution_count": 6,
   "id": "27eae1db",
   "metadata": {},
   "outputs": [],
   "source": [
    "stores['extract_time'] = pd.to_datetime(stores['extract_time'], format='%Y-%m-%d %H:%M:%S.%f')\n"
   ]
  },
  {
   "cell_type": "code",
   "execution_count": 7,
   "id": "6fd3d6e1",
   "metadata": {},
   "outputs": [],
   "source": [
    "has_duplicate_rows = stores.duplicated(subset=None).any()\n"
   ]
  },
  {
   "cell_type": "code",
   "execution_count": 8,
   "id": "d8f3fd59",
   "metadata": {},
   "outputs": [
    {
     "data": {
      "text/plain": [
       "False"
      ]
     },
     "execution_count": 8,
     "metadata": {},
     "output_type": "execute_result"
    }
   ],
   "source": [
    "has_duplicate_rows"
   ]
  },
  {
   "cell_type": "code",
   "execution_count": 10,
   "id": "a3c3f2fa",
   "metadata": {},
   "outputs": [],
   "source": [
    "import os\n",
    "import pandas as pd\n",
    "\n",
    "\n",
    "output_path = '../staging_1/stores/stores.csv'\n",
    "\n",
    "\n",
    "os.makedirs(os.path.dirname(output_path), exist_ok=True)\n",
    "\n",
    "\n",
    "stores.to_csv(output_path, index=False)\n"
   ]
  },
  {
   "cell_type": "code",
   "execution_count": null,
   "id": "d28123b5",
   "metadata": {},
   "outputs": [],
   "source": []
  }
 ],
 "metadata": {
  "kernelspec": {
   "display_name": "Python 3 (ipykernel)",
   "language": "python",
   "name": "python3"
  },
  "language_info": {
   "codemirror_mode": {
    "name": "ipython",
    "version": 3
   },
   "file_extension": ".py",
   "mimetype": "text/x-python",
   "name": "python",
   "nbconvert_exporter": "python",
   "pygments_lexer": "ipython3",
   "version": "3.9.12"
  }
 },
 "nbformat": 4,
 "nbformat_minor": 5
}
