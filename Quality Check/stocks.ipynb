{
 "cells": [
  {
   "cell_type": "code",
   "execution_count": 1,
   "id": "e48439e7",
   "metadata": {},
   "outputs": [],
   "source": [
    " \n",
    "import pandas as pd\n",
    "\n",
    "import numpy as np\n",
    "\n",
    "stocks = pd.read_csv('../landing/stocks/stocks.csv')"
   ]
  },
  {
   "cell_type": "code",
   "execution_count": 6,
   "id": "050d1f31",
   "metadata": {},
   "outputs": [
    {
     "name": "stdout",
     "output_type": "stream",
     "text": [
      "<class 'pandas.core.frame.DataFrame'>\n",
      "RangeIndex: 939 entries, 0 to 938\n",
      "Data columns (total 5 columns):\n",
      " #   Column        Non-Null Count  Dtype         \n",
      "---  ------        --------------  -----         \n",
      " 0   store_id      939 non-null    int64         \n",
      " 1   product_id    939 non-null    int64         \n",
      " 2   quantity      939 non-null    int64         \n",
      " 3   extract_time  939 non-null    datetime64[ns]\n",
      " 4   source_name   939 non-null    object        \n",
      "dtypes: datetime64[ns](1), int64(3), object(1)\n",
      "memory usage: 36.8+ KB\n"
     ]
    }
   ],
   "source": [
    "stocks.info()"
   ]
  },
  {
   "cell_type": "code",
   "execution_count": 4,
   "id": "e617f0b2",
   "metadata": {},
   "outputs": [
    {
     "data": {
      "text/plain": [
       "store_id        0\n",
       "product_id      0\n",
       "quantity        0\n",
       "extract_time    0\n",
       "source_name     0\n",
       "dtype: int64"
      ]
     },
     "execution_count": 4,
     "metadata": {},
     "output_type": "execute_result"
    }
   ],
   "source": [
    "stocks.isnull().sum()"
   ]
  },
  {
   "cell_type": "code",
   "execution_count": 5,
   "id": "a0cb81df",
   "metadata": {},
   "outputs": [],
   "source": [
    "stocks['extract_time'] = pd.to_datetime(stocks['extract_time'], format='%Y-%m-%d %H:%M:%S.%f')\n"
   ]
  },
  {
   "cell_type": "code",
   "execution_count": 7,
   "id": "6e1996f1",
   "metadata": {},
   "outputs": [],
   "source": [
    "has_duplicate_rows = stocks.duplicated(subset=None).any()\n"
   ]
  },
  {
   "cell_type": "code",
   "execution_count": 8,
   "id": "4c8b54c7",
   "metadata": {},
   "outputs": [
    {
     "data": {
      "text/plain": [
       "False"
      ]
     },
     "execution_count": 8,
     "metadata": {},
     "output_type": "execute_result"
    }
   ],
   "source": [
    "has_duplicate_rows"
   ]
  },
  {
   "cell_type": "code",
   "execution_count": 9,
   "id": "dd95c4cf",
   "metadata": {},
   "outputs": [],
   "source": [
    "import os\n",
    "import pandas as pd\n",
    "\n",
    "\n",
    "output_path = '../staging_1/stocks/stocks.csv'\n",
    "\n",
    "\n",
    "os.makedirs(os.path.dirname(output_path), exist_ok=True)\n",
    "\n",
    "\n",
    "stocks.to_csv(output_path, index=False)\n"
   ]
  },
  {
   "cell_type": "code",
   "execution_count": null,
   "id": "ced6c432",
   "metadata": {},
   "outputs": [],
   "source": []
  }
 ],
 "metadata": {
  "kernelspec": {
   "display_name": "Python 3 (ipykernel)",
   "language": "python",
   "name": "python3"
  },
  "language_info": {
   "codemirror_mode": {
    "name": "ipython",
    "version": 3
   },
   "file_extension": ".py",
   "mimetype": "text/x-python",
   "name": "python",
   "nbconvert_exporter": "python",
   "pygments_lexer": "ipython3",
   "version": "3.9.12"
  }
 },
 "nbformat": 4,
 "nbformat_minor": 5
}
