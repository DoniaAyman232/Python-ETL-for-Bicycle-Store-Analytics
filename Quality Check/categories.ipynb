{
 "cells": [
  {
   "cell_type": "code",
   "execution_count": 2,
   "id": "25cc1469",
   "metadata": {},
   "outputs": [],
   "source": [
    " \n",
    "import pandas as pd\n",
    "\n",
    "import numpy as np\n",
    "\n",
    "categories = pd.read_csv('../landing/categories/categories.csv')"
   ]
  },
  {
   "cell_type": "code",
   "execution_count": 4,
   "id": "1f570bfd",
   "metadata": {},
   "outputs": [
    {
     "data": {
      "text/plain": [
       "category_id      0\n",
       "category_name    0\n",
       "extract_time     0\n",
       "source_name      0\n",
       "dtype: int64"
      ]
     },
     "execution_count": 4,
     "metadata": {},
     "output_type": "execute_result"
    }
   ],
   "source": [
    "categories.isnull().sum()"
   ]
  },
  {
   "cell_type": "code",
   "execution_count": 5,
   "id": "5648bc52",
   "metadata": {},
   "outputs": [],
   "source": [
    "categories['extract_time'] = pd.to_datetime(categories['extract_time'], format='%Y-%m-%d %H:%M:%S.%f')\n"
   ]
  },
  {
   "cell_type": "code",
   "execution_count": 6,
   "id": "826c3f2d",
   "metadata": {},
   "outputs": [
    {
     "name": "stdout",
     "output_type": "stream",
     "text": [
      "<class 'pandas.core.frame.DataFrame'>\n",
      "RangeIndex: 7 entries, 0 to 6\n",
      "Data columns (total 4 columns):\n",
      " #   Column         Non-Null Count  Dtype         \n",
      "---  ------         --------------  -----         \n",
      " 0   category_id    7 non-null      int64         \n",
      " 1   category_name  7 non-null      object        \n",
      " 2   extract_time   7 non-null      datetime64[ns]\n",
      " 3   source_name    7 non-null      object        \n",
      "dtypes: datetime64[ns](1), int64(1), object(2)\n",
      "memory usage: 352.0+ bytes\n"
     ]
    }
   ],
   "source": [
    "categories.info()"
   ]
  },
  {
   "cell_type": "code",
   "execution_count": 7,
   "id": "7d207477",
   "metadata": {},
   "outputs": [],
   "source": [
    "import os\n",
    "import pandas as pd\n",
    "\n",
    "\n",
    "output_path = '../staging_1/categories/categories.csv'\n",
    "\n",
    "\n",
    "os.makedirs(os.path.dirname(output_path), exist_ok=True)\n",
    "\n",
    "\n",
    "categories.to_csv(output_path, index=False)\n"
   ]
  },
  {
   "cell_type": "code",
   "execution_count": 8,
   "id": "13687735",
   "metadata": {},
   "outputs": [],
   "source": [
    "has_duplicate_rows = categories.duplicated(subset=None).any()\n"
   ]
  },
  {
   "cell_type": "code",
   "execution_count": 9,
   "id": "9f7ab779",
   "metadata": {},
   "outputs": [
    {
     "data": {
      "text/plain": [
       "False"
      ]
     },
     "execution_count": 9,
     "metadata": {},
     "output_type": "execute_result"
    }
   ],
   "source": [
    "has_duplicate_rows"
   ]
  },
  {
   "cell_type": "code",
   "execution_count": null,
   "id": "662ba341",
   "metadata": {},
   "outputs": [],
   "source": []
  }
 ],
 "metadata": {
  "kernelspec": {
   "display_name": "Python 3 (ipykernel)",
   "language": "python",
   "name": "python3"
  },
  "language_info": {
   "codemirror_mode": {
    "name": "ipython",
    "version": 3
   },
   "file_extension": ".py",
   "mimetype": "text/x-python",
   "name": "python",
   "nbconvert_exporter": "python",
   "pygments_lexer": "ipython3",
   "version": "3.9.12"
  }
 },
 "nbformat": 4,
 "nbformat_minor": 5
}
