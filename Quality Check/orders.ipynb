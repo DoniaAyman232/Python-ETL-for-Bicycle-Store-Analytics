{
 "cells": [
  {
   "cell_type": "code",
   "execution_count": 1,
   "id": "1ebce051",
   "metadata": {},
   "outputs": [],
   "source": [
    " \n",
    "import pandas as pd\n",
    "\n",
    "import numpy as np\n",
    "\n",
    "orders = pd.read_csv('../landing/orders/orders.csv')"
   ]
  },
  {
   "cell_type": "code",
   "execution_count": 2,
   "id": "3dce1c09",
   "metadata": {},
   "outputs": [
    {
     "name": "stdout",
     "output_type": "stream",
     "text": [
      "<class 'pandas.core.frame.DataFrame'>\n",
      "RangeIndex: 1615 entries, 0 to 1614\n",
      "Data columns (total 10 columns):\n",
      " #   Column         Non-Null Count  Dtype \n",
      "---  ------         --------------  ----- \n",
      " 0   order_id       1615 non-null   int64 \n",
      " 1   customer_id    1615 non-null   int64 \n",
      " 2   order_status   1615 non-null   int64 \n",
      " 3   order_date     1615 non-null   object\n",
      " 4   required_date  1615 non-null   object\n",
      " 5   shipped_date   1445 non-null   object\n",
      " 6   store_id       1615 non-null   int64 \n",
      " 7   staff_id       1615 non-null   int64 \n",
      " 8   extract_time   1615 non-null   object\n",
      " 9   source         1615 non-null   object\n",
      "dtypes: int64(5), object(5)\n",
      "memory usage: 126.3+ KB\n"
     ]
    }
   ],
   "source": [
    "orders.info()"
   ]
  },
  {
   "cell_type": "code",
   "execution_count": 3,
   "id": "5428285b",
   "metadata": {},
   "outputs": [
    {
     "data": {
      "text/plain": [
       "order_id           0\n",
       "customer_id        0\n",
       "order_status       0\n",
       "order_date         0\n",
       "required_date      0\n",
       "shipped_date     170\n",
       "store_id           0\n",
       "staff_id           0\n",
       "extract_time       0\n",
       "source             0\n",
       "dtype: int64"
      ]
     },
     "execution_count": 3,
     "metadata": {},
     "output_type": "execute_result"
    }
   ],
   "source": [
    "orders.isnull().sum()"
   ]
  },
  {
   "cell_type": "code",
   "execution_count": 4,
   "id": "6ed68483",
   "metadata": {},
   "outputs": [],
   "source": [
    "orders['extract_time'] = pd.to_datetime(orders['extract_time'], format='%Y-%m-%d %H:%M:%S.%f')\n"
   ]
  },
  {
   "cell_type": "code",
   "execution_count": 5,
   "id": "9d73c20c",
   "metadata": {},
   "outputs": [
    {
     "data": {
      "text/plain": [
       "(1615, 10)"
      ]
     },
     "execution_count": 5,
     "metadata": {},
     "output_type": "execute_result"
    }
   ],
   "source": [
    "orders.shape"
   ]
  },
  {
   "cell_type": "code",
   "execution_count": 6,
   "id": "c00b5261",
   "metadata": {},
   "outputs": [],
   "source": [
    "orders = orders[(orders['order_date'] >= '2000-01-01') & (orders['order_date'] <= '2024-12-31')]\n"
   ]
  },
  {
   "cell_type": "code",
   "execution_count": 7,
   "id": "159907f8",
   "metadata": {},
   "outputs": [],
   "source": [
    "orders['order_date'] = pd.to_datetime(orders['order_date'], format='%Y-%m-%d %H:%M:%S.%f')\n"
   ]
  },
  {
   "cell_type": "code",
   "execution_count": null,
   "id": "e9d244b0",
   "metadata": {},
   "outputs": [],
   "source": []
  },
  {
   "cell_type": "code",
   "execution_count": 8,
   "id": "91dc1a27",
   "metadata": {},
   "outputs": [],
   "source": [
    "orders = orders[(orders['required_date'] >= '2000-01-01') & (orders['required_date'] <= '2024-12-31')]\n"
   ]
  },
  {
   "cell_type": "code",
   "execution_count": 9,
   "id": "d3ad2c71",
   "metadata": {},
   "outputs": [],
   "source": [
    "orders = orders[(orders['shipped_date'] >= '2000-01-01') & (orders['shipped_date'] <= '2024-12-31')]\n"
   ]
  },
  {
   "cell_type": "code",
   "execution_count": 10,
   "id": "e541df12",
   "metadata": {},
   "outputs": [],
   "source": [
    "orders['required_date'] = pd.to_datetime(orders['required_date'], format='%Y-%m-%d %H:%M:%S.%f')\n"
   ]
  },
  {
   "cell_type": "code",
   "execution_count": 11,
   "id": "4c4c96e0",
   "metadata": {},
   "outputs": [],
   "source": [
    "orders['shipped_date'] = pd.to_datetime(orders['shipped_date'], format='%Y-%m-%d %H:%M:%S.%f')\n"
   ]
  },
  {
   "cell_type": "code",
   "execution_count": 12,
   "id": "96bf0a2b",
   "metadata": {},
   "outputs": [],
   "source": [
    "has_duplicate_rows = orders.duplicated(subset=None).any()\n"
   ]
  },
  {
   "cell_type": "code",
   "execution_count": 13,
   "id": "166e8e2c",
   "metadata": {},
   "outputs": [
    {
     "data": {
      "text/plain": [
       "False"
      ]
     },
     "execution_count": 13,
     "metadata": {},
     "output_type": "execute_result"
    }
   ],
   "source": [
    "has_duplicate_rows"
   ]
  },
  {
   "cell_type": "code",
   "execution_count": 14,
   "id": "17168cea",
   "metadata": {},
   "outputs": [
    {
     "data": {
      "text/html": [
       "<div>\n",
       "<style scoped>\n",
       "    .dataframe tbody tr th:only-of-type {\n",
       "        vertical-align: middle;\n",
       "    }\n",
       "\n",
       "    .dataframe tbody tr th {\n",
       "        vertical-align: top;\n",
       "    }\n",
       "\n",
       "    .dataframe thead th {\n",
       "        text-align: right;\n",
       "    }\n",
       "</style>\n",
       "<table border=\"1\" class=\"dataframe\">\n",
       "  <thead>\n",
       "    <tr style=\"text-align: right;\">\n",
       "      <th></th>\n",
       "      <th>order_id</th>\n",
       "      <th>customer_id</th>\n",
       "      <th>order_status</th>\n",
       "      <th>order_date</th>\n",
       "      <th>required_date</th>\n",
       "      <th>shipped_date</th>\n",
       "      <th>store_id</th>\n",
       "      <th>staff_id</th>\n",
       "      <th>extract_time</th>\n",
       "      <th>source</th>\n",
       "    </tr>\n",
       "  </thead>\n",
       "  <tbody>\n",
       "    <tr>\n",
       "      <th>0</th>\n",
       "      <td>1</td>\n",
       "      <td>259</td>\n",
       "      <td>4</td>\n",
       "      <td>2016-01-01</td>\n",
       "      <td>2016-01-03</td>\n",
       "      <td>2016-01-03</td>\n",
       "      <td>1</td>\n",
       "      <td>2</td>\n",
       "      <td>2024-04-30 11:26:02.921696</td>\n",
       "      <td>postgres</td>\n",
       "    </tr>\n",
       "    <tr>\n",
       "      <th>1</th>\n",
       "      <td>2</td>\n",
       "      <td>1212</td>\n",
       "      <td>4</td>\n",
       "      <td>2016-01-01</td>\n",
       "      <td>2016-01-04</td>\n",
       "      <td>2016-01-03</td>\n",
       "      <td>2</td>\n",
       "      <td>6</td>\n",
       "      <td>2024-04-30 11:26:02.921696</td>\n",
       "      <td>postgres</td>\n",
       "    </tr>\n",
       "    <tr>\n",
       "      <th>2</th>\n",
       "      <td>3</td>\n",
       "      <td>523</td>\n",
       "      <td>4</td>\n",
       "      <td>2016-01-02</td>\n",
       "      <td>2016-01-05</td>\n",
       "      <td>2016-01-03</td>\n",
       "      <td>2</td>\n",
       "      <td>7</td>\n",
       "      <td>2024-04-30 11:26:02.921696</td>\n",
       "      <td>postgres</td>\n",
       "    </tr>\n",
       "    <tr>\n",
       "      <th>3</th>\n",
       "      <td>4</td>\n",
       "      <td>175</td>\n",
       "      <td>4</td>\n",
       "      <td>2016-01-03</td>\n",
       "      <td>2016-01-04</td>\n",
       "      <td>2016-01-05</td>\n",
       "      <td>1</td>\n",
       "      <td>3</td>\n",
       "      <td>2024-04-30 11:26:02.921696</td>\n",
       "      <td>postgres</td>\n",
       "    </tr>\n",
       "    <tr>\n",
       "      <th>4</th>\n",
       "      <td>5</td>\n",
       "      <td>1324</td>\n",
       "      <td>4</td>\n",
       "      <td>2016-01-03</td>\n",
       "      <td>2016-01-06</td>\n",
       "      <td>2016-01-06</td>\n",
       "      <td>2</td>\n",
       "      <td>6</td>\n",
       "      <td>2024-04-30 11:26:02.921696</td>\n",
       "      <td>postgres</td>\n",
       "    </tr>\n",
       "    <tr>\n",
       "      <th>...</th>\n",
       "      <td>...</td>\n",
       "      <td>...</td>\n",
       "      <td>...</td>\n",
       "      <td>...</td>\n",
       "      <td>...</td>\n",
       "      <td>...</td>\n",
       "      <td>...</td>\n",
       "      <td>...</td>\n",
       "      <td>...</td>\n",
       "      <td>...</td>\n",
       "    </tr>\n",
       "    <tr>\n",
       "      <th>1473</th>\n",
       "      <td>1474</td>\n",
       "      <td>816</td>\n",
       "      <td>4</td>\n",
       "      <td>2018-03-30</td>\n",
       "      <td>2018-04-01</td>\n",
       "      <td>2018-04-02</td>\n",
       "      <td>1</td>\n",
       "      <td>3</td>\n",
       "      <td>2024-04-30 11:26:02.921696</td>\n",
       "      <td>postgres</td>\n",
       "    </tr>\n",
       "    <tr>\n",
       "      <th>1474</th>\n",
       "      <td>1475</td>\n",
       "      <td>112</td>\n",
       "      <td>4</td>\n",
       "      <td>2018-03-30</td>\n",
       "      <td>2018-04-01</td>\n",
       "      <td>2018-03-31</td>\n",
       "      <td>2</td>\n",
       "      <td>6</td>\n",
       "      <td>2024-04-30 11:26:02.921696</td>\n",
       "      <td>postgres</td>\n",
       "    </tr>\n",
       "    <tr>\n",
       "      <th>1475</th>\n",
       "      <td>1476</td>\n",
       "      <td>35</td>\n",
       "      <td>4</td>\n",
       "      <td>2018-03-31</td>\n",
       "      <td>2018-04-01</td>\n",
       "      <td>2018-04-01</td>\n",
       "      <td>2</td>\n",
       "      <td>7</td>\n",
       "      <td>2024-04-30 11:26:02.921696</td>\n",
       "      <td>postgres</td>\n",
       "    </tr>\n",
       "    <tr>\n",
       "      <th>1476</th>\n",
       "      <td>1477</td>\n",
       "      <td>180</td>\n",
       "      <td>4</td>\n",
       "      <td>2018-03-31</td>\n",
       "      <td>2018-04-03</td>\n",
       "      <td>2018-04-01</td>\n",
       "      <td>2</td>\n",
       "      <td>6</td>\n",
       "      <td>2024-04-30 11:26:02.921696</td>\n",
       "      <td>postgres</td>\n",
       "    </tr>\n",
       "    <tr>\n",
       "      <th>1477</th>\n",
       "      <td>1478</td>\n",
       "      <td>392</td>\n",
       "      <td>4</td>\n",
       "      <td>2018-03-31</td>\n",
       "      <td>2018-04-02</td>\n",
       "      <td>2018-04-02</td>\n",
       "      <td>2</td>\n",
       "      <td>6</td>\n",
       "      <td>2024-04-30 11:26:02.921696</td>\n",
       "      <td>postgres</td>\n",
       "    </tr>\n",
       "  </tbody>\n",
       "</table>\n",
       "<p>1432 rows × 10 columns</p>\n",
       "</div>"
      ],
      "text/plain": [
       "      order_id  customer_id  order_status order_date required_date  \\\n",
       "0            1          259             4 2016-01-01    2016-01-03   \n",
       "1            2         1212             4 2016-01-01    2016-01-04   \n",
       "2            3          523             4 2016-01-02    2016-01-05   \n",
       "3            4          175             4 2016-01-03    2016-01-04   \n",
       "4            5         1324             4 2016-01-03    2016-01-06   \n",
       "...        ...          ...           ...        ...           ...   \n",
       "1473      1474          816             4 2018-03-30    2018-04-01   \n",
       "1474      1475          112             4 2018-03-30    2018-04-01   \n",
       "1475      1476           35             4 2018-03-31    2018-04-01   \n",
       "1476      1477          180             4 2018-03-31    2018-04-03   \n",
       "1477      1478          392             4 2018-03-31    2018-04-02   \n",
       "\n",
       "     shipped_date  store_id  staff_id               extract_time    source  \n",
       "0      2016-01-03         1         2 2024-04-30 11:26:02.921696  postgres  \n",
       "1      2016-01-03         2         6 2024-04-30 11:26:02.921696  postgres  \n",
       "2      2016-01-03         2         7 2024-04-30 11:26:02.921696  postgres  \n",
       "3      2016-01-05         1         3 2024-04-30 11:26:02.921696  postgres  \n",
       "4      2016-01-06         2         6 2024-04-30 11:26:02.921696  postgres  \n",
       "...           ...       ...       ...                        ...       ...  \n",
       "1473   2018-04-02         1         3 2024-04-30 11:26:02.921696  postgres  \n",
       "1474   2018-03-31         2         6 2024-04-30 11:26:02.921696  postgres  \n",
       "1475   2018-04-01         2         7 2024-04-30 11:26:02.921696  postgres  \n",
       "1476   2018-04-01         2         6 2024-04-30 11:26:02.921696  postgres  \n",
       "1477   2018-04-02         2         6 2024-04-30 11:26:02.921696  postgres  \n",
       "\n",
       "[1432 rows x 10 columns]"
      ]
     },
     "execution_count": 14,
     "metadata": {},
     "output_type": "execute_result"
    }
   ],
   "source": [
    "orders"
   ]
  },
  {
   "cell_type": "code",
   "execution_count": 16,
   "id": "7897e86b",
   "metadata": {},
   "outputs": [],
   "source": [
    "import os\n",
    "import pandas as pd\n",
    "\n",
    "\n",
    "output_path = '../staging_1/orders/orders.csv'\n",
    "\n",
    "\n",
    "os.makedirs(os.path.dirname(output_path), exist_ok=True)\n",
    "\n",
    "\n",
    "orders.to_csv(output_path, index=False)\n"
   ]
  },
  {
   "cell_type": "code",
   "execution_count": null,
   "id": "68ddec92",
   "metadata": {},
   "outputs": [],
   "source": []
  }
 ],
 "metadata": {
  "kernelspec": {
   "display_name": "Python 3 (ipykernel)",
   "language": "python",
   "name": "python3"
  },
  "language_info": {
   "codemirror_mode": {
    "name": "ipython",
    "version": 3
   },
   "file_extension": ".py",
   "mimetype": "text/x-python",
   "name": "python",
   "nbconvert_exporter": "python",
   "pygments_lexer": "ipython3",
   "version": "3.9.12"
  }
 },
 "nbformat": 4,
 "nbformat_minor": 5
}
